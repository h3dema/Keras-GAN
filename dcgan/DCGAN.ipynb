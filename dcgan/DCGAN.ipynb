{
 "cells": [
  {
   "cell_type": "code",
   "execution_count": 1,
   "metadata": {},
   "outputs": [],
   "source": [
    "import numpy as np\n",
    "import matplotlib.pyplot as plt"
   ]
  },
  {
   "cell_type": "code",
   "execution_count": 2,
   "metadata": {},
   "outputs": [
    {
     "name": "stderr",
     "output_type": "stream",
     "text": [
      "Using TensorFlow backend.\n"
     ]
    }
   ],
   "source": [
    "from keras.datasets import mnist\n",
    "from keras.layers import Input, Dense, Reshape, Flatten, Dropout\n",
    "from keras.layers import BatchNormalization, Activation, ZeroPadding2D\n",
    "from keras.layers.advanced_activations import LeakyReLU\n",
    "from keras.layers.convolutional import UpSampling2D, Conv2D\n",
    "from keras.models import Sequential, Model\n",
    "from keras.optimizers import Adam"
   ]
  },
  {
   "cell_type": "markdown",
   "metadata": {},
   "source": [
    "# Generator"
   ]
  },
  {
   "cell_type": "code",
   "execution_count": 3,
   "metadata": {},
   "outputs": [],
   "source": [
    "def build_generator(latent_dim, channels):\n",
    "\n",
    "    model = Sequential()\n",
    "\n",
    "    model.add(Dense(128 * 7 * 7, activation=\"relu\", input_dim=latent_dim))\n",
    "    model.add(Reshape((7, 7, 128)))\n",
    "    model.add(UpSampling2D())\n",
    "    model.add(Conv2D(128, kernel_size=3, padding=\"same\"))\n",
    "    model.add(BatchNormalization(momentum=0.8))\n",
    "    model.add(Activation(\"relu\"))\n",
    "    model.add(UpSampling2D())\n",
    "    model.add(Conv2D(64, kernel_size=3, padding=\"same\"))\n",
    "    model.add(BatchNormalization(momentum=0.8))\n",
    "    model.add(Activation(\"relu\"))\n",
    "    model.add(Conv2D(channels, kernel_size=3, padding=\"same\"))\n",
    "    model.add(Activation(\"tanh\"))\n",
    "\n",
    "    model.summary()\n",
    "\n",
    "    noise = Input(shape=(latent_dim,))\n",
    "    img = model(noise)\n",
    "\n",
    "    return Model(noise, img)"
   ]
  },
  {
   "cell_type": "markdown",
   "metadata": {},
   "source": [
    "# Discriminator"
   ]
  },
  {
   "cell_type": "code",
   "execution_count": 4,
   "metadata": {},
   "outputs": [],
   "source": [
    "def build_discriminator(img_shape):\n",
    "    \"\"\" CNN is defined manually inside this procedure\n",
    "        using Leaky RELU\n",
    "    \"\"\"\n",
    "\n",
    "    model = Sequential()\n",
    "\n",
    "    model.add(Conv2D(32, kernel_size=3, strides=2, input_shape=img_shape, padding=\"same\"))\n",
    "    model.add(LeakyReLU(alpha=0.2))\n",
    "    model.add(Dropout(0.25))\n",
    "    model.add(Conv2D(64, kernel_size=3, strides=2, padding=\"same\"))\n",
    "    model.add(ZeroPadding2D(padding=((0,1),(0,1))))\n",
    "    model.add(BatchNormalization(momentum=0.8))\n",
    "    model.add(LeakyReLU(alpha=0.2))\n",
    "    model.add(Dropout(0.25))\n",
    "    model.add(Conv2D(128, kernel_size=3, strides=2, padding=\"same\"))\n",
    "    model.add(BatchNormalization(momentum=0.8))\n",
    "    model.add(LeakyReLU(alpha=0.2))\n",
    "    model.add(Dropout(0.25))\n",
    "    model.add(Conv2D(256, kernel_size=3, strides=1, padding=\"same\"))\n",
    "    model.add(BatchNormalization(momentum=0.8))\n",
    "    model.add(LeakyReLU(alpha=0.2))\n",
    "    model.add(Dropout(0.25))\n",
    "    model.add(Flatten())\n",
    "    model.add(Dense(1, activation='sigmoid'))\n",
    "\n",
    "    model.summary()\n",
    "\n",
    "    img = Input(shape=img_shape)\n",
    "    validity = model(img)\n",
    "\n",
    "    return Model(img, validity)"
   ]
  },
  {
   "cell_type": "markdown",
   "metadata": {},
   "source": [
    "# save figures in ./images"
   ]
  },
  {
   "cell_type": "code",
   "execution_count": 5,
   "metadata": {},
   "outputs": [],
   "source": [
    "def save_imgs(epoch, latent_dim, G):\n",
    "    r, c = 5, 5\n",
    "    noise = np.random.normal(0, 1, (r * c, latent_dim))\n",
    "    gen_imgs = G.predict(noise)\n",
    "\n",
    "    # Rescale images 0 - 1\n",
    "    gen_imgs = 0.5 * gen_imgs + 0.5\n",
    "\n",
    "    fig, axs = plt.subplots(r, c)\n",
    "    cnt = 0\n",
    "    for i in range(r):\n",
    "        for j in range(c):\n",
    "            axs[i,j].imshow(gen_imgs[cnt, :,:,0], cmap='gray')\n",
    "            axs[i,j].axis('off')\n",
    "            cnt += 1\n",
    "    fig.savefig(\"images/mnist_%d.png\" % epoch)\n",
    "    plt.close()"
   ]
  },
  {
   "cell_type": "markdown",
   "metadata": {},
   "source": [
    "# training the model"
   ]
  },
  {
   "cell_type": "code",
   "execution_count": 6,
   "metadata": {},
   "outputs": [],
   "source": [
    "def train(D, G, combined, epochs, latent_dim, batch_size=128, save_interval=50):\n",
    "\n",
    "    # Load the dataset\n",
    "    (X_train, _), (_, _) = mnist.load_data()\n",
    "\n",
    "    # Rescale -1 to 1\n",
    "    X_train = X_train / 127.5 - 1.\n",
    "    X_train = np.expand_dims(X_train, axis=3)\n",
    "\n",
    "    # Adversarial ground truths\n",
    "    valid = np.ones((batch_size, 1))\n",
    "    fake = np.zeros((batch_size, 1))\n",
    "\n",
    "    for epoch in range(epochs):\n",
    "\n",
    "        # ---------------------\n",
    "        #  Train Discriminator\n",
    "        # ---------------------\n",
    "\n",
    "        # Select a random half of images\n",
    "        idx = np.random.randint(0, X_train.shape[0], batch_size)\n",
    "        imgs = X_train[idx]\n",
    "\n",
    "        # Sample noise and generate a batch of new images\n",
    "        noise = np.random.normal(0, 1, (batch_size, latent_dim))\n",
    "        gen_imgs = G.predict(noise)\n",
    "\n",
    "        # Train the discriminator (real classified as ones and generated as zeros)\n",
    "        d_loss_real = D.train_on_batch(imgs, valid)\n",
    "        d_loss_fake = D.train_on_batch(gen_imgs, fake)\n",
    "        d_loss = 0.5 * np.add(d_loss_real, d_loss_fake)\n",
    "\n",
    "        # ---------------------\n",
    "        #  Train Generator\n",
    "        # ---------------------\n",
    "\n",
    "        # Train the generator (wants discriminator to mistake images as real)\n",
    "        g_loss = combined.train_on_batch(noise, valid)\n",
    "\n",
    "        # Plot the progress\n",
    "        print (\"%d [D loss: %f, acc.: %.2f%%] [G loss: %f]\" % (epoch, d_loss[0], 100*d_loss[1], g_loss))\n",
    "\n",
    "        # If at save interval => save generated image samples\n",
    "        if epoch % save_interval == 0:\n",
    "            save_imgs(epoch, latent_dim, G)"
   ]
  },
  {
   "cell_type": "markdown",
   "metadata": {},
   "source": [
    "# main()"
   ]
  },
  {
   "cell_type": "code",
   "execution_count": 8,
   "metadata": {},
   "outputs": [],
   "source": [
    "# Input shape\n",
    "img_rows = 28\n",
    "img_cols = 28\n",
    "channels = 1\n",
    "img_shape = (img_rows, img_cols, channels)\n",
    "latent_dim = 100"
   ]
  },
  {
   "cell_type": "markdown",
   "metadata": {},
   "source": [
    "# optimizer"
   ]
  },
  {
   "cell_type": "code",
   "execution_count": 9,
   "metadata": {},
   "outputs": [
    {
     "name": "stdout",
     "output_type": "stream",
     "text": [
      "WARNING:tensorflow:From c:\\users\\henri\\appdata\\local\\programs\\python\\python37\\lib\\site-packages\\tensorflow_core\\python\\ops\\resource_variable_ops.py:1630: calling BaseResourceVariable.__init__ (from tensorflow.python.ops.resource_variable_ops) with constraint is deprecated and will be removed in a future version.\n",
      "Instructions for updating:\n",
      "If using Keras pass *_constraint arguments to layers.\n"
     ]
    }
   ],
   "source": [
    "optimizer = Adam(0.0002, 0.5)"
   ]
  },
  {
   "cell_type": "markdown",
   "metadata": {},
   "source": [
    "# Build and compile the discriminator"
   ]
  },
  {
   "cell_type": "code",
   "execution_count": 10,
   "metadata": {},
   "outputs": [
    {
     "name": "stdout",
     "output_type": "stream",
     "text": [
      "Model: \"sequential_1\"\n",
      "_________________________________________________________________\n",
      "Layer (type)                 Output Shape              Param #   \n",
      "=================================================================\n",
      "conv2d_1 (Conv2D)            (None, 14, 14, 32)        320       \n",
      "_________________________________________________________________\n",
      "leaky_re_lu_1 (LeakyReLU)    (None, 14, 14, 32)        0         \n",
      "_________________________________________________________________\n",
      "dropout_1 (Dropout)          (None, 14, 14, 32)        0         \n",
      "_________________________________________________________________\n",
      "conv2d_2 (Conv2D)            (None, 7, 7, 64)          18496     \n",
      "_________________________________________________________________\n",
      "zero_padding2d_1 (ZeroPaddin (None, 8, 8, 64)          0         \n",
      "_________________________________________________________________\n",
      "batch_normalization_1 (Batch (None, 8, 8, 64)          256       \n",
      "_________________________________________________________________\n",
      "leaky_re_lu_2 (LeakyReLU)    (None, 8, 8, 64)          0         \n",
      "_________________________________________________________________\n",
      "dropout_2 (Dropout)          (None, 8, 8, 64)          0         \n",
      "_________________________________________________________________\n",
      "conv2d_3 (Conv2D)            (None, 4, 4, 128)         73856     \n",
      "_________________________________________________________________\n",
      "batch_normalization_2 (Batch (None, 4, 4, 128)         512       \n",
      "_________________________________________________________________\n",
      "leaky_re_lu_3 (LeakyReLU)    (None, 4, 4, 128)         0         \n",
      "_________________________________________________________________\n",
      "dropout_3 (Dropout)          (None, 4, 4, 128)         0         \n",
      "_________________________________________________________________\n",
      "conv2d_4 (Conv2D)            (None, 4, 4, 256)         295168    \n",
      "_________________________________________________________________\n",
      "batch_normalization_3 (Batch (None, 4, 4, 256)         1024      \n",
      "_________________________________________________________________\n",
      "leaky_re_lu_4 (LeakyReLU)    (None, 4, 4, 256)         0         \n",
      "_________________________________________________________________\n",
      "dropout_4 (Dropout)          (None, 4, 4, 256)         0         \n",
      "_________________________________________________________________\n",
      "flatten_1 (Flatten)          (None, 4096)              0         \n",
      "_________________________________________________________________\n",
      "dense_1 (Dense)              (None, 1)                 4097      \n",
      "=================================================================\n",
      "Total params: 393,729\n",
      "Trainable params: 392,833\n",
      "Non-trainable params: 896\n",
      "_________________________________________________________________\n",
      "WARNING:tensorflow:From c:\\users\\henri\\appdata\\local\\programs\\python\\python37\\lib\\site-packages\\tensorflow_core\\python\\ops\\nn_impl.py:183: where (from tensorflow.python.ops.array_ops) is deprecated and will be removed in a future version.\n",
      "Instructions for updating:\n",
      "Use tf.where in 2.0, which has the same broadcast rule as np.where\n"
     ]
    }
   ],
   "source": [
    "D = build_discriminator(img_shape)\n",
    "D.compile(loss='binary_crossentropy',\n",
    "    optimizer=optimizer,\n",
    "    metrics=['accuracy'])"
   ]
  },
  {
   "cell_type": "code",
   "execution_count": 11,
   "metadata": {},
   "outputs": [
    {
     "name": "stdout",
     "output_type": "stream",
     "text": [
      "Model: \"sequential_2\"\n",
      "_________________________________________________________________\n",
      "Layer (type)                 Output Shape              Param #   \n",
      "=================================================================\n",
      "dense_2 (Dense)              (None, 6272)              633472    \n",
      "_________________________________________________________________\n",
      "reshape_1 (Reshape)          (None, 7, 7, 128)         0         \n",
      "_________________________________________________________________\n",
      "up_sampling2d_1 (UpSampling2 (None, 14, 14, 128)       0         \n",
      "_________________________________________________________________\n",
      "conv2d_5 (Conv2D)            (None, 14, 14, 128)       147584    \n",
      "_________________________________________________________________\n",
      "batch_normalization_4 (Batch (None, 14, 14, 128)       512       \n",
      "_________________________________________________________________\n",
      "activation_1 (Activation)    (None, 14, 14, 128)       0         \n",
      "_________________________________________________________________\n",
      "up_sampling2d_2 (UpSampling2 (None, 28, 28, 128)       0         \n",
      "_________________________________________________________________\n",
      "conv2d_6 (Conv2D)            (None, 28, 28, 64)        73792     \n",
      "_________________________________________________________________\n",
      "batch_normalization_5 (Batch (None, 28, 28, 64)        256       \n",
      "_________________________________________________________________\n",
      "activation_2 (Activation)    (None, 28, 28, 64)        0         \n",
      "_________________________________________________________________\n",
      "conv2d_7 (Conv2D)            (None, 28, 28, 1)         577       \n",
      "_________________________________________________________________\n",
      "activation_3 (Activation)    (None, 28, 28, 1)         0         \n",
      "=================================================================\n",
      "Total params: 856,193\n",
      "Trainable params: 855,809\n",
      "Non-trainable params: 384\n",
      "_________________________________________________________________\n"
     ]
    }
   ],
   "source": [
    "# Build the generator\n",
    "G = build_generator(latent_dim, channels)"
   ]
  },
  {
   "cell_type": "code",
   "execution_count": 12,
   "metadata": {},
   "outputs": [],
   "source": [
    "# The generator takes noise as input and generates imgs\n",
    "z = Input(shape=(latent_dim,))\n",
    "img = G(z)"
   ]
  },
  {
   "cell_type": "code",
   "execution_count": 13,
   "metadata": {},
   "outputs": [],
   "source": [
    "# For the combined model we will only train the generator\n",
    "G.trainable = False"
   ]
  },
  {
   "cell_type": "code",
   "execution_count": 16,
   "metadata": {},
   "outputs": [],
   "source": [
    "# The discriminator takes generated images as input and determines validity\n",
    "valid = D(img)"
   ]
  },
  {
   "cell_type": "code",
   "execution_count": 17,
   "metadata": {},
   "outputs": [],
   "source": [
    "# The combined model  (stacked generator and discriminator)\n",
    "# Trains the generator to fool the discriminator\n",
    "combined = Model(z, valid)\n",
    "combined.compile(loss='binary_crossentropy', optimizer=optimizer)"
   ]
  },
  {
   "cell_type": "code",
   "execution_count": 18,
   "metadata": {},
   "outputs": [],
   "source": [
    "epochs=4000"
   ]
  },
  {
   "cell_type": "code",
   "execution_count": null,
   "metadata": {},
   "outputs": [
    {
     "name": "stdout",
     "output_type": "stream",
     "text": [
      "WARNING:tensorflow:From c:\\users\\henri\\appdata\\local\\programs\\python\\python37\\lib\\site-packages\\keras\\backend\\tensorflow_backend.py:422: The name tf.global_variables is deprecated. Please use tf.compat.v1.global_variables instead.\n",
      "\n",
      "0 [D loss: 0.971818, acc.: 39.06%] [G loss: 0.904005]\n",
      "1 [D loss: 0.580782, acc.: 68.75%] [G loss: 0.640387]\n",
      "2 [D loss: 0.520761, acc.: 67.19%] [G loss: 0.575532]\n",
      "3 [D loss: 0.329176, acc.: 81.25%] [G loss: 0.501298]\n",
      "4 [D loss: 0.399877, acc.: 71.88%] [G loss: 0.459840]\n",
      "5 [D loss: 0.287807, acc.: 85.94%] [G loss: 0.242169]\n",
      "6 [D loss: 0.170066, acc.: 96.88%] [G loss: 0.171092]\n",
      "7 [D loss: 0.154485, acc.: 92.19%] [G loss: 0.120855]\n",
      "8 [D loss: 0.095455, acc.: 96.88%] [G loss: 0.154423]\n",
      "9 [D loss: 0.062577, acc.: 100.00%] [G loss: 0.091144]\n",
      "10 [D loss: 0.077430, acc.: 96.88%] [G loss: 0.089175]\n",
      "11 [D loss: 0.057203, acc.: 96.88%] [G loss: 0.076569]\n",
      "12 [D loss: 0.049290, acc.: 100.00%] [G loss: 0.080518]\n",
      "13 [D loss: 0.032268, acc.: 100.00%] [G loss: 0.039273]\n",
      "14 [D loss: 0.024370, acc.: 100.00%] [G loss: 0.024534]\n",
      "15 [D loss: 0.029122, acc.: 100.00%] [G loss: 0.020207]\n",
      "16 [D loss: 0.016629, acc.: 100.00%] [G loss: 0.020623]\n",
      "17 [D loss: 0.008096, acc.: 100.00%] [G loss: 0.013124]\n",
      "18 [D loss: 0.018532, acc.: 100.00%] [G loss: 0.014836]\n",
      "19 [D loss: 0.007778, acc.: 100.00%] [G loss: 0.017120]\n",
      "20 [D loss: 0.007717, acc.: 100.00%] [G loss: 0.020786]\n",
      "21 [D loss: 0.007030, acc.: 100.00%] [G loss: 0.019415]\n",
      "22 [D loss: 0.008240, acc.: 100.00%] [G loss: 0.014176]\n",
      "23 [D loss: 0.008570, acc.: 100.00%] [G loss: 0.012624]\n",
      "24 [D loss: 0.004368, acc.: 100.00%] [G loss: 0.010974]\n",
      "25 [D loss: 0.014360, acc.: 100.00%] [G loss: 0.004571]\n",
      "26 [D loss: 0.006625, acc.: 100.00%] [G loss: 0.020655]\n",
      "27 [D loss: 0.002594, acc.: 100.00%] [G loss: 0.011224]\n",
      "28 [D loss: 0.006405, acc.: 100.00%] [G loss: 0.007954]\n",
      "29 [D loss: 0.005017, acc.: 100.00%] [G loss: 0.006888]\n",
      "30 [D loss: 0.008315, acc.: 100.00%] [G loss: 0.011787]\n",
      "31 [D loss: 0.003416, acc.: 100.00%] [G loss: 0.016277]\n",
      "32 [D loss: 0.007475, acc.: 100.00%] [G loss: 0.005969]\n",
      "33 [D loss: 0.003330, acc.: 100.00%] [G loss: 0.003410]\n",
      "34 [D loss: 0.003519, acc.: 100.00%] [G loss: 0.007936]\n",
      "35 [D loss: 0.002131, acc.: 100.00%] [G loss: 0.006921]\n",
      "36 [D loss: 0.005460, acc.: 100.00%] [G loss: 0.009791]\n",
      "37 [D loss: 0.005020, acc.: 100.00%] [G loss: 0.006005]\n",
      "38 [D loss: 0.005394, acc.: 100.00%] [G loss: 0.005099]\n",
      "39 [D loss: 0.001866, acc.: 100.00%] [G loss: 0.007516]\n",
      "40 [D loss: 0.004162, acc.: 100.00%] [G loss: 0.006514]\n",
      "41 [D loss: 0.002809, acc.: 100.00%] [G loss: 0.007850]\n",
      "42 [D loss: 0.003408, acc.: 100.00%] [G loss: 0.004840]\n",
      "43 [D loss: 0.002405, acc.: 100.00%] [G loss: 0.003293]\n",
      "44 [D loss: 0.001612, acc.: 100.00%] [G loss: 0.004235]\n",
      "45 [D loss: 0.001571, acc.: 100.00%] [G loss: 0.002130]\n",
      "46 [D loss: 0.006654, acc.: 100.00%] [G loss: 0.007967]\n",
      "47 [D loss: 0.002973, acc.: 100.00%] [G loss: 0.002752]\n",
      "48 [D loss: 0.001610, acc.: 100.00%] [G loss: 0.004483]\n",
      "49 [D loss: 0.002480, acc.: 100.00%] [G loss: 0.003054]\n",
      "50 [D loss: 0.001144, acc.: 100.00%] [G loss: 0.003570]\n",
      "51 [D loss: 0.002838, acc.: 100.00%] [G loss: 0.003828]\n",
      "52 [D loss: 0.001157, acc.: 100.00%] [G loss: 0.001941]\n",
      "53 [D loss: 0.000748, acc.: 100.00%] [G loss: 0.003331]\n",
      "54 [D loss: 0.000838, acc.: 100.00%] [G loss: 0.002372]\n",
      "55 [D loss: 0.001097, acc.: 100.00%] [G loss: 0.003669]\n",
      "56 [D loss: 0.002572, acc.: 100.00%] [G loss: 0.001945]\n",
      "57 [D loss: 0.001619, acc.: 100.00%] [G loss: 0.003503]\n",
      "58 [D loss: 0.001898, acc.: 100.00%] [G loss: 0.002378]\n",
      "59 [D loss: 0.002203, acc.: 100.00%] [G loss: 0.001062]\n",
      "60 [D loss: 0.000714, acc.: 100.00%] [G loss: 0.002718]\n",
      "61 [D loss: 0.001853, acc.: 100.00%] [G loss: 0.005499]\n",
      "62 [D loss: 0.001176, acc.: 100.00%] [G loss: 0.001027]\n",
      "63 [D loss: 0.001012, acc.: 100.00%] [G loss: 0.001278]\n",
      "64 [D loss: 0.000722, acc.: 100.00%] [G loss: 0.002141]\n",
      "65 [D loss: 0.001078, acc.: 100.00%] [G loss: 0.001256]\n",
      "66 [D loss: 0.000949, acc.: 100.00%] [G loss: 0.002325]\n",
      "67 [D loss: 0.000574, acc.: 100.00%] [G loss: 0.004163]\n",
      "68 [D loss: 0.000999, acc.: 100.00%] [G loss: 0.001591]\n",
      "69 [D loss: 0.000994, acc.: 100.00%] [G loss: 0.002323]\n",
      "70 [D loss: 0.000449, acc.: 100.00%] [G loss: 0.001178]\n",
      "71 [D loss: 0.001331, acc.: 100.00%] [G loss: 0.001210]\n",
      "72 [D loss: 0.000927, acc.: 100.00%] [G loss: 0.001564]\n",
      "73 [D loss: 0.000933, acc.: 100.00%] [G loss: 0.001939]\n",
      "74 [D loss: 0.000781, acc.: 100.00%] [G loss: 0.002420]\n",
      "75 [D loss: 0.000959, acc.: 100.00%] [G loss: 0.007095]\n",
      "76 [D loss: 0.000870, acc.: 100.00%] [G loss: 0.000789]\n",
      "77 [D loss: 0.000413, acc.: 100.00%] [G loss: 0.001931]\n",
      "78 [D loss: 0.001301, acc.: 100.00%] [G loss: 0.001397]\n",
      "79 [D loss: 0.000609, acc.: 100.00%] [G loss: 0.000715]\n",
      "80 [D loss: 0.000682, acc.: 100.00%] [G loss: 0.001489]\n",
      "81 [D loss: 0.000717, acc.: 100.00%] [G loss: 0.002926]\n",
      "82 [D loss: 0.001510, acc.: 100.00%] [G loss: 0.001012]\n",
      "83 [D loss: 0.000476, acc.: 100.00%] [G loss: 0.001378]\n",
      "84 [D loss: 0.000696, acc.: 100.00%] [G loss: 0.000744]\n",
      "85 [D loss: 0.000864, acc.: 100.00%] [G loss: 0.000769]\n",
      "86 [D loss: 0.000335, acc.: 100.00%] [G loss: 0.000935]\n",
      "87 [D loss: 0.000529, acc.: 100.00%] [G loss: 0.004330]\n",
      "88 [D loss: 0.000345, acc.: 100.00%] [G loss: 0.001039]\n",
      "89 [D loss: 0.000405, acc.: 100.00%] [G loss: 0.001053]\n",
      "90 [D loss: 0.000991, acc.: 100.00%] [G loss: 0.000786]\n",
      "91 [D loss: 0.000415, acc.: 100.00%] [G loss: 0.001744]\n",
      "92 [D loss: 0.000595, acc.: 100.00%] [G loss: 0.000762]\n",
      "93 [D loss: 0.000442, acc.: 100.00%] [G loss: 0.001313]\n",
      "94 [D loss: 0.000700, acc.: 100.00%] [G loss: 0.000934]\n",
      "95 [D loss: 0.000330, acc.: 100.00%] [G loss: 0.000776]\n",
      "96 [D loss: 0.000404, acc.: 100.00%] [G loss: 0.001045]\n",
      "97 [D loss: 0.000425, acc.: 100.00%] [G loss: 0.001118]\n",
      "98 [D loss: 0.000718, acc.: 100.00%] [G loss: 0.001232]\n",
      "99 [D loss: 0.000824, acc.: 100.00%] [G loss: 0.000695]\n",
      "100 [D loss: 0.000725, acc.: 100.00%] [G loss: 0.001674]\n",
      "101 [D loss: 0.000542, acc.: 100.00%] [G loss: 0.000496]\n",
      "102 [D loss: 0.000354, acc.: 100.00%] [G loss: 0.000797]\n",
      "103 [D loss: 0.000401, acc.: 100.00%] [G loss: 0.000578]\n",
      "104 [D loss: 0.000565, acc.: 100.00%] [G loss: 0.000753]\n",
      "105 [D loss: 0.000420, acc.: 100.00%] [G loss: 0.001455]\n",
      "106 [D loss: 0.000434, acc.: 100.00%] [G loss: 0.001125]\n",
      "107 [D loss: 0.001074, acc.: 100.00%] [G loss: 0.000753]\n",
      "108 [D loss: 0.000282, acc.: 100.00%] [G loss: 0.001287]\n",
      "109 [D loss: 0.000818, acc.: 100.00%] [G loss: 0.000675]\n",
      "110 [D loss: 0.000421, acc.: 100.00%] [G loss: 0.001412]\n",
      "111 [D loss: 0.000474, acc.: 100.00%] [G loss: 0.000645]\n",
      "112 [D loss: 0.000424, acc.: 100.00%] [G loss: 0.001385]\n",
      "113 [D loss: 0.000490, acc.: 100.00%] [G loss: 0.000583]\n",
      "114 [D loss: 0.000188, acc.: 100.00%] [G loss: 0.000591]\n",
      "115 [D loss: 0.000159, acc.: 100.00%] [G loss: 0.000585]\n",
      "116 [D loss: 0.000255, acc.: 100.00%] [G loss: 0.001133]\n",
      "117 [D loss: 0.000245, acc.: 100.00%] [G loss: 0.000781]\n",
      "118 [D loss: 0.001148, acc.: 100.00%] [G loss: 0.000360]\n",
      "119 [D loss: 0.000229, acc.: 100.00%] [G loss: 0.000577]\n",
      "120 [D loss: 0.000185, acc.: 100.00%] [G loss: 0.000551]\n",
      "121 [D loss: 0.000274, acc.: 100.00%] [G loss: 0.000723]\n",
      "122 [D loss: 0.000181, acc.: 100.00%] [G loss: 0.000835]\n",
      "123 [D loss: 0.000244, acc.: 100.00%] [G loss: 0.000808]\n",
      "124 [D loss: 0.000303, acc.: 100.00%] [G loss: 0.000494]\n",
      "125 [D loss: 0.000266, acc.: 100.00%] [G loss: 0.000992]\n",
      "126 [D loss: 0.000144, acc.: 100.00%] [G loss: 0.000570]\n",
      "127 [D loss: 0.000197, acc.: 100.00%] [G loss: 0.000590]\n",
      "128 [D loss: 0.000143, acc.: 100.00%] [G loss: 0.000611]\n",
      "129 [D loss: 0.000392, acc.: 100.00%] [G loss: 0.000588]\n",
      "130 [D loss: 0.000499, acc.: 100.00%] [G loss: 0.000529]\n",
      "131 [D loss: 0.000156, acc.: 100.00%] [G loss: 0.000615]\n",
      "132 [D loss: 0.000215, acc.: 100.00%] [G loss: 0.000575]\n",
      "133 [D loss: 0.000888, acc.: 100.00%] [G loss: 0.000553]\n",
      "134 [D loss: 0.000335, acc.: 100.00%] [G loss: 0.000432]\n",
      "135 [D loss: 0.000223, acc.: 100.00%] [G loss: 0.000262]\n",
      "136 [D loss: 0.000201, acc.: 100.00%] [G loss: 0.000511]\n",
      "137 [D loss: 0.000156, acc.: 100.00%] [G loss: 0.000303]\n",
      "138 [D loss: 0.000188, acc.: 100.00%] [G loss: 0.000400]\n",
      "139 [D loss: 0.000234, acc.: 100.00%] [G loss: 0.000766]\n",
      "140 [D loss: 0.000407, acc.: 100.00%] [G loss: 0.001142]\n"
     ]
    },
    {
     "name": "stdout",
     "output_type": "stream",
     "text": [
      "141 [D loss: 0.000158, acc.: 100.00%] [G loss: 0.000576]\n",
      "142 [D loss: 0.000451, acc.: 100.00%] [G loss: 0.000298]\n",
      "143 [D loss: 0.000228, acc.: 100.00%] [G loss: 0.000464]\n",
      "144 [D loss: 0.000297, acc.: 100.00%] [G loss: 0.000528]\n",
      "145 [D loss: 0.000340, acc.: 100.00%] [G loss: 0.000799]\n",
      "146 [D loss: 0.000310, acc.: 100.00%] [G loss: 0.000475]\n",
      "147 [D loss: 0.000221, acc.: 100.00%] [G loss: 0.000498]\n",
      "148 [D loss: 0.000157, acc.: 100.00%] [G loss: 0.000278]\n",
      "149 [D loss: 0.000139, acc.: 100.00%] [G loss: 0.000781]\n",
      "150 [D loss: 0.000209, acc.: 100.00%] [G loss: 0.000379]\n",
      "151 [D loss: 0.000195, acc.: 100.00%] [G loss: 0.000318]\n",
      "152 [D loss: 0.000145, acc.: 100.00%] [G loss: 0.000259]\n",
      "153 [D loss: 0.000465, acc.: 100.00%] [G loss: 0.000259]\n",
      "154 [D loss: 0.000167, acc.: 100.00%] [G loss: 0.000723]\n",
      "155 [D loss: 0.000122, acc.: 100.00%] [G loss: 0.000239]\n",
      "156 [D loss: 0.000312, acc.: 100.00%] [G loss: 0.000543]\n",
      "157 [D loss: 0.000268, acc.: 100.00%] [G loss: 0.000446]\n",
      "158 [D loss: 0.000326, acc.: 100.00%] [G loss: 0.001015]\n",
      "159 [D loss: 0.000252, acc.: 100.00%] [G loss: 0.000894]\n",
      "160 [D loss: 0.000243, acc.: 100.00%] [G loss: 0.000916]\n",
      "161 [D loss: 0.000062, acc.: 100.00%] [G loss: 0.000843]\n",
      "162 [D loss: 0.000207, acc.: 100.00%] [G loss: 0.000526]\n",
      "163 [D loss: 0.000375, acc.: 100.00%] [G loss: 0.000605]\n",
      "164 [D loss: 0.000119, acc.: 100.00%] [G loss: 0.000620]\n",
      "165 [D loss: 0.000221, acc.: 100.00%] [G loss: 0.000307]\n",
      "166 [D loss: 0.000319, acc.: 100.00%] [G loss: 0.000401]\n",
      "167 [D loss: 0.000115, acc.: 100.00%] [G loss: 0.000276]\n",
      "168 [D loss: 0.000201, acc.: 100.00%] [G loss: 0.000370]\n",
      "169 [D loss: 0.000126, acc.: 100.00%] [G loss: 0.000265]\n",
      "170 [D loss: 0.000139, acc.: 100.00%] [G loss: 0.000495]\n",
      "171 [D loss: 0.000152, acc.: 100.00%] [G loss: 0.000264]\n",
      "172 [D loss: 0.000170, acc.: 100.00%] [G loss: 0.000441]\n",
      "173 [D loss: 0.000199, acc.: 100.00%] [G loss: 0.000285]\n",
      "174 [D loss: 0.000107, acc.: 100.00%] [G loss: 0.000495]\n",
      "175 [D loss: 0.000097, acc.: 100.00%] [G loss: 0.000220]\n",
      "176 [D loss: 0.000266, acc.: 100.00%] [G loss: 0.000314]\n",
      "177 [D loss: 0.000242, acc.: 100.00%] [G loss: 0.000313]\n",
      "178 [D loss: 0.000272, acc.: 100.00%] [G loss: 0.000408]\n",
      "179 [D loss: 0.000206, acc.: 100.00%] [G loss: 0.000225]\n",
      "180 [D loss: 0.000155, acc.: 100.00%] [G loss: 0.000462]\n",
      "181 [D loss: 0.000149, acc.: 100.00%] [G loss: 0.000259]\n",
      "182 [D loss: 0.000164, acc.: 100.00%] [G loss: 0.000221]\n",
      "183 [D loss: 0.000115, acc.: 100.00%] [G loss: 0.000552]\n",
      "184 [D loss: 0.000155, acc.: 100.00%] [G loss: 0.000413]\n",
      "185 [D loss: 0.000436, acc.: 100.00%] [G loss: 0.000313]\n",
      "186 [D loss: 0.000177, acc.: 100.00%] [G loss: 0.000390]\n",
      "187 [D loss: 0.000120, acc.: 100.00%] [G loss: 0.000728]\n",
      "188 [D loss: 0.000156, acc.: 100.00%] [G loss: 0.000303]\n",
      "189 [D loss: 0.000183, acc.: 100.00%] [G loss: 0.000326]\n",
      "190 [D loss: 0.000088, acc.: 100.00%] [G loss: 0.000290]\n",
      "191 [D loss: 0.000142, acc.: 100.00%] [G loss: 0.000355]\n",
      "192 [D loss: 0.000129, acc.: 100.00%] [G loss: 0.000566]\n",
      "193 [D loss: 0.000111, acc.: 100.00%] [G loss: 0.000255]\n",
      "194 [D loss: 0.000132, acc.: 100.00%] [G loss: 0.000236]\n",
      "195 [D loss: 0.000149, acc.: 100.00%] [G loss: 0.000209]\n",
      "196 [D loss: 0.000202, acc.: 100.00%] [G loss: 0.000320]\n",
      "197 [D loss: 0.000092, acc.: 100.00%] [G loss: 0.000214]\n",
      "198 [D loss: 0.000138, acc.: 100.00%] [G loss: 0.000324]\n",
      "199 [D loss: 0.000164, acc.: 100.00%] [G loss: 0.000336]\n",
      "200 [D loss: 0.000199, acc.: 100.00%] [G loss: 0.000398]\n",
      "201 [D loss: 0.000069, acc.: 100.00%] [G loss: 0.000204]\n",
      "202 [D loss: 0.000237, acc.: 100.00%] [G loss: 0.000339]\n",
      "203 [D loss: 0.000105, acc.: 100.00%] [G loss: 0.000541]\n",
      "204 [D loss: 0.000200, acc.: 100.00%] [G loss: 0.000306]\n",
      "205 [D loss: 0.000173, acc.: 100.00%] [G loss: 0.000467]\n",
      "206 [D loss: 0.000139, acc.: 100.00%] [G loss: 0.000239]\n",
      "207 [D loss: 0.000111, acc.: 100.00%] [G loss: 0.000249]\n",
      "208 [D loss: 0.000054, acc.: 100.00%] [G loss: 0.000187]\n",
      "209 [D loss: 0.000090, acc.: 100.00%] [G loss: 0.000150]\n",
      "210 [D loss: 0.000142, acc.: 100.00%] [G loss: 0.000167]\n"
     ]
    }
   ],
   "source": [
    "train(D, G, combined, \n",
    "      latent_dim=latent_dim,\n",
    "      epochs=epochs, \n",
    "      batch_size=32, save_interval=50)"
   ]
  },
  {
   "cell_type": "code",
   "execution_count": null,
   "metadata": {},
   "outputs": [],
   "source": []
  }
 ],
 "metadata": {
  "kernelspec": {
   "display_name": "Python 3",
   "language": "python",
   "name": "python3"
  },
  "language_info": {
   "codemirror_mode": {
    "name": "ipython",
    "version": 3
   },
   "file_extension": ".py",
   "mimetype": "text/x-python",
   "name": "python",
   "nbconvert_exporter": "python",
   "pygments_lexer": "ipython3",
   "version": "3.7.6"
  }
 },
 "nbformat": 4,
 "nbformat_minor": 4
}
