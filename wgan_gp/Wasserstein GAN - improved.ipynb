{
 "cells": [
  {
   "cell_type": "markdown",
   "metadata": {},
   "source": [
    "# Wasserstein GAN - Improved\n",
    "\n",
    "ref.:\n",
    "GULRAJANI, Ishaan et al.  \n",
    "Improved training of wasserstein gans.  \n",
    "In: Advances in neural information processing systems. 2017. p. 5767-5777.\n",
    "\n",
    "![new objective](wgan_gp_objective.png)"
   ]
  },
  {
   "cell_type": "code",
   "execution_count": null,
   "metadata": {},
   "outputs": [],
   "source": []
  }
 ],
 "metadata": {
  "kernelspec": {
   "display_name": "Python 3",
   "language": "python",
   "name": "python3"
  },
  "language_info": {
   "codemirror_mode": {
    "name": "ipython",
    "version": 3
   },
   "file_extension": ".py",
   "mimetype": "text/x-python",
   "name": "python",
   "nbconvert_exporter": "python",
   "pygments_lexer": "ipython3",
   "version": "3.7.6"
  }
 },
 "nbformat": 4,
 "nbformat_minor": 4
}
